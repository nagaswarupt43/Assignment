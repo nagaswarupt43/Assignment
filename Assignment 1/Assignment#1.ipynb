{
 "cells": [
  {
   "cell_type": "code",
   "execution_count": 1,
   "metadata": {},
   "outputs": [
    {
     "name": "stdout",
     "output_type": "stream",
     "text": [
      "Hello Naga, Welcome to Ineuron Machine Learning course\n"
     ]
    }
   ],
   "source": [
    "\"\"\"Problem - 1\"\"\"\n",
    "\n",
    "print(\"Hello Naga, Welcome to Ineuron Machine Learning course\")"
   ]
  },
  {
   "cell_type": "code",
   "execution_count": 2,
   "metadata": {},
   "outputs": [
    {
     "name": "stdout",
     "output_type": "stream",
     "text": [
      "[2702, 2709, 2716, 2723, 2737, 2744, 2751, 2758, 2772, 2779, 2786, 2793, 2807, 2814, 2821, 2828, 2842, 2849, 2856, 2863, 2877, 2884, 2891, 2898, 2912, 2919, 2926, 2933, 2947, 2954, 2961, 2968, 2982, 2989, 2996, 3003, 3017, 3024, 3031, 3038, 3052, 3059, 3066, 3073, 3087, 3094, 3101, 3108, 3122, 3129, 3136, 3143, 3157, 3164, 3171, 3178, 3192, 3199]\n"
     ]
    }
   ],
   "source": [
    "\"\"\"Problem - 2\"\"\"\n",
    "newlist = []\n",
    "\n",
    "for i in range(2700,3201):\n",
    "    if ((i%7==0)and(i%5!=0)):\n",
    "        newlist.append((i))\n",
    "print(newlist)"
   ]
  },
  {
   "cell_type": "code",
   "execution_count": 3,
   "metadata": {},
   "outputs": [
    {
     "name": "stdout",
     "output_type": "stream",
     "text": [
      "Enter FirstName:Naga\n",
      "Enter LastName:Swaroop\n",
      "poorawS agaN\n",
      "Swaroop Naga\n"
     ]
    }
   ],
   "source": [
    "\"\"\"Problem - 3\"\"\"\n",
    "fname = input(\"Enter FirstName:\")\n",
    "lname = input(\"Enter LastName:\")\n",
    "str = fname+\" \"+lname\n",
    "print(str[::-1])\n",
    "str2 = lname+\" \"+fname\n",
    "print(str2)"
   ]
  },
  {
   "cell_type": "code",
   "execution_count": 4,
   "metadata": {},
   "outputs": [
    {
     "name": "stdout",
     "output_type": "stream",
     "text": [
      "Enter Diameter:12\n",
      "150.79644737231007\n"
     ]
    }
   ],
   "source": [
    "\"\"\"Problem - 4\"\"\"\n",
    "import math\n",
    "dia = int(input(\"Enter Diameter:\"))\n",
    "r = dia/2\n",
    "volume = 4/3 * math.pi * (r**2)\n",
    "print(volume)"
   ]
  },
  {
   "cell_type": "code",
   "execution_count": 5,
   "metadata": {},
   "outputs": [
    {
     "name": "stdout",
     "output_type": "stream",
     "text": [
      "Enter comma seperated values : 2,3,5,6,4,7,8,89,43,21,25\n",
      "['2', '3', '5', '6', '4', '7', '8', '89', '43', '21', '25']\n"
     ]
    }
   ],
   "source": [
    "\"\"\"Problem - 1\"\"\"\n",
    "n = input(\"Enter comma seperated values : \")\n",
    "list = n.split(\",\")\n",
    "print(list)\n"
   ]
  },
  {
   "cell_type": "code",
   "execution_count": 6,
   "metadata": {},
   "outputs": [
    {
     "name": "stdout",
     "output_type": "stream",
     "text": [
      "Enter number : 5\n",
      "* \n",
      "\n",
      "* * \n",
      "\n",
      "* * * \n",
      "\n",
      "* * * * \n",
      "\n",
      "* * * * * \n",
      "\n",
      "* * * * \n",
      "\n",
      "* * * \n",
      "\n",
      "* * \n",
      "\n",
      "* \n",
      "\n",
      "\n",
      "\n"
     ]
    }
   ],
   "source": [
    "\"\"\"Problem - 2\"\"\"\n",
    "n = int(input(\"Enter number : \"))\n",
    "\n",
    "\n",
    "for i in range (0, n):\n",
    "    for j in range(0, i+1 ):\n",
    "        print(\"*\", end=' ')\n",
    "    print(\"\\n\")\n",
    "\n",
    "for i in range (n,0,-1):\n",
    "    for j in range(0, i-1):\n",
    "        print(\"*\", end=' ')\n",
    "    print(\"\\n\")"
   ]
  },
  {
   "cell_type": "code",
   "execution_count": 7,
   "metadata": {},
   "outputs": [
    {
     "name": "stdout",
     "output_type": "stream",
     "text": [
      "Enter String:AcadGild\n",
      "dliGdacA\n"
     ]
    }
   ],
   "source": [
    "\"\"\"Problem - 3\"\"\"\n",
    "str = input(\"Enter String:\")\n",
    "\n",
    "print(str[::-1])\n"
   ]
  },
  {
   "cell_type": "code",
   "execution_count": 8,
   "metadata": {},
   "outputs": [
    {
     "name": "stdout",
     "output_type": "stream",
     "text": [
      "WE, THE PEOPLE OF INDIA,\n",
      "\t having solemnly resolved to constitute India into a SOVEREIGN,!\n",
      "\t\tSOCIALIST, SECULAR, DEMOCRATIC REPUBLIC\n",
      "\t\t and to secure to allits citizens\n",
      "\n"
     ]
    }
   ],
   "source": [
    "string = \"WE, THE PEOPLE OF INDIA,{} having solemnly resolved to constitute India into a SOVEREIGN,{}SOCIALIST, SECULAR, DEMOCRATIC REPUBLIC{} and to secure to allits citizens{}\"\n",
    "print(string.format('\\n\\t','!\\n\\t\\t','\\n\\t\\t','\\n'))"
   ]
  },
  {
   "cell_type": "code",
   "execution_count": null,
   "metadata": {},
   "outputs": [],
   "source": []
  }
 ],
 "metadata": {
  "kernelspec": {
   "display_name": "Python 3",
   "language": "python",
   "name": "python3"
  },
  "language_info": {
   "codemirror_mode": {
    "name": "ipython",
    "version": 3
   },
   "file_extension": ".py",
   "mimetype": "text/x-python",
   "name": "python",
   "nbconvert_exporter": "python",
   "pygments_lexer": "ipython3",
   "version": "3.7.3"
  }
 },
 "nbformat": 4,
 "nbformat_minor": 2
}
